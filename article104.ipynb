{
  "nbformat": 4,
  "nbformat_minor": 0,
  "metadata": {
    "colab": {
      "name": "article104.ipynb",
      "provenance": [],
      "authorship_tag": "ABX9TyMR7qLwgC66suhLoniMFP4h",
      "include_colab_link": true
    },
    "kernelspec": {
      "name": "python3",
      "display_name": "Python 3"
    }
  },
  "cells": [
    {
      "cell_type": "markdown",
      "metadata": {
        "id": "view-in-github",
        "colab_type": "text"
      },
      "source": [
        "<a href=\"https://colab.research.google.com/github/Chan-han0101/web_104/blob/main/article104.ipynb\" target=\"_parent\"><img src=\"https://colab.research.google.com/assets/colab-badge.svg\" alt=\"Open In Colab\"/></a>"
      ]
    },
    {
      "cell_type": "code",
      "metadata": {
        "id": "EPV-I3J7DdgC"
      },
      "source": [
        "import requests as rq\r\n",
        "from bs4 import BeautifulSoup\r\n",
        "\r\n",
        "# 104職場力網站，抓取每一篇文章的內文\r\n",
        "def page_article(url,s=\" \"): # 為了讓函式能有回傳值，在參數列中設置預設參數，並最後將結果回傳回來\r\n",
        "    url = str(url)\r\n",
        "    html = rq.get(url)\r\n",
        "    content = BeautifulSoup(html.text, \"html.parser\")\r\n",
        "\r\n",
        "    article = content.find(\"div\", class_=\"articleRight\").find_all(\"p\")\r\n",
        "    for c in article:\r\n",
        "        file = c.text\r\n",
        "        s += file + '\\n'  # 換行時，注意是反斜線和放在引號內\r\n",
        "    return s # 記得將結果回傳回去預設變數。\r\n"
      ],
      "execution_count": 4,
      "outputs": []
    },
    {
      "cell_type": "code",
      "metadata": {
        "id": "rS_JTakUDQPW"
      },
      "source": [
        "import requests as rq\r\n",
        "import json\r\n",
        "# import article_104\r\n",
        "import os\r\n",
        "\r\n",
        "url =\"https://blog.104.com.tw/wp-json/104-cms/v1/posts?cat_id=196&post_id=28071\"\r\n",
        "html = rq.get(url)\r\n",
        "# print(html.text)\r\n",
        "latest = json.loads(html.text)[0][\"post_id\"]\r\n",
        "\r\n",
        "\r\n",
        "# 抓取每個頁面\r\n",
        "for i in range(2):\r\n",
        "    print(\"page:\",i + 1)\r\n",
        "    url =\"https://blog.104.com.tw/wp-json/104-cms/v1/posts?cat_id=196&post_id=\" + str(latest)\r\n",
        "    responses = rq.get(url)\r\n",
        "    contents = json.loads(responses.text)\r\n",
        "    # 抓取頁面中的每個文章\r\n",
        "    for c in contents:\r\n",
        "        # article_id = c.[\"post_id\"]\r\n",
        "        http = c[\"post_link\"]\r\n",
        "\r\n",
        "        base = \"104人力銀行BLOG\"+ \"/\" +str(c[\"cat_name\"]) # 創建檔案的資料夾\r\n",
        "        if not os.path.exists(base):\r\n",
        "            os.makedirs(base)\r\n",
        "        fp = base + \"/\"  + str(c[\"post_id\"]) + \".txt\"\r\n",
        "        contents = open(fp, \"w\", encoding=\"utf-8\")  # 將文章位置的檔案開啟\r\n",
        "        article = page_article(http)\r\n",
        "        print(article)\r\n",
        "        contents.write(article) # 將函式的回傳值寫入(本篇是104人力銀行的文章內容)\r\n",
        "        contents.close()\r\n",
        "        latest = c[\"post_id\"]"
      ],
      "execution_count": null,
      "outputs": []
    },
    {
      "cell_type": "code",
      "metadata": {
        "colab": {
          "base_uri": "https://localhost:8080/"
        },
        "id": "dkfbt9s2Dkkh",
        "outputId": "8c0f9285-15a6-4950-8a9b-4855416b165c"
      },
      "source": [
        "import jieba.analyse as a\r\n",
        "import jieba\r\n",
        "from urllib.request import urlretrieve,urlopen\r\n",
        "import os\r\n",
        "import json\r\n",
        "\r\n",
        "key = list()\r\n",
        "\r\n",
        "def dict(path):\r\n",
        "    location = path\r\n",
        "    # 出現SyntaxError: (unicode error) 'unicodeescape' codec can't decode bytes in position 2-3: truncated \\UXXXXXXXX escape\r\n",
        "    # 解決方法一:\r\n",
        "    # 在路徑前加 r，使編譯器將整組路徑視為Raw String，字串中的跳脫字元都被當成一般字元處理。\r\n",
        "\r\n",
        "    # location = \"C:\\\\Users\\\\chen-han\\\\PycharmProjects\\\\web_crawler\\\\104人力銀行BLOG\\\\104 產品服務\\\\27666.txt\"\r\n",
        "    # 解決方法二:\r\n",
        "    # 將路徑中的 \\ 取代為 \\\\ ( \\\\ 也是跳脫字元其意義為反斜線 \\ )。\r\n",
        "\r\n",
        "    # 解決方法三:\r\n",
        "    # 直改用別的路徑或相對路徑，避開Windows預設的\\Users。\r\n",
        "    with open(location, \"r\", encoding= \"utf-8\") as f:\r\n",
        "        contents = f.read()\r\n",
        "\r\n",
        "    url = \"https://github.com/fxsjy/jieba/raw/master/extra_dict/dict.txt.big\"  #Jieba繁體字典所在\r\n",
        "    urlretrieve(url,\"bigdict.txt\")\r\n",
        "\r\n",
        "    jieba.load_userdict(\"bigdict.txt\")\r\n",
        "    # print(' '.join(jieba.cut(contents))) #將文章內容分割\r\n",
        "\r\n",
        "\r\n",
        "    print(\"關鍵字:\",a.extract_tags(contents, 5)) # 分析關鍵字\r\n",
        "    article = {\r\n",
        "        \"article_name\": '',\r\n",
        "        \"keyword\": '',\r\n",
        "    }\r\n",
        "\r\n",
        "    article[\"article_name\"] = path.split(\"\\\\\")[-1]\r\n",
        "    article[\"keyword\"] = (a.extract_tags(contents, 5))\r\n",
        "    key.append(article.copy())\r\n",
        "\r\n",
        "\r\n",
        "\r\n",
        "    # return json.dumps(article)\r\n",
        "    #如何將檔案已Json格式製作出來後回傳出來??? 是用os存成txt檔???\r\n",
        "\r\n",
        "\r\n",
        "def find_dir(path):\r\n",
        "    # 函數功能: 遞迴顯示指定路徑下的所有檔案及資料夾名稱(先將指定路徑中的資料夾做成list，再使用for迴圈來一個一個判讀是否是資料夾\r\n",
        "    # ，進而找到每個檔案)\r\n",
        "    for fd in os.listdir(path):\r\n",
        "        full_path = os.path.join(path, fd)\r\n",
        "        if os.path.isdir(full_path): # 判斷是否為資料夾\r\n",
        "            print('資料夾:', full_path)\r\n",
        "            find_dir(full_path)\r\n",
        "        else:\r\n",
        "            print('檔案:', full_path)\r\n",
        "            dict(full_path)\r\n",
        "\r\n",
        "path = \"./104人力銀行BLOG\"  # 指向當前資料夾的路徑\r\n",
        "find_dir(path)\r\n",
        "\r\n",
        "base = r\"C:\\Users\\chen-han\\PycharmProjects\\web_crawler\"\r\n",
        "if not os.path.exists:\r\n",
        "    os.makedirs(base)\r\n",
        "fp = base + \"\\key \" + \".json\"\r\n",
        "file = open(fp, \"w\", encoding=\"utf-8\")\r\n",
        "json.dump(key, file, ensure_ascii=False)"
      ],
      "execution_count": 7,
      "outputs": [
        {
          "output_type": "stream",
          "text": [
            "資料夾: ./104人力銀行BLOG/職場360\n",
            "檔案: ./104人力銀行BLOG/職場360/27109.txt\n"
          ],
          "name": "stdout"
        },
        {
          "output_type": "stream",
          "text": [
            "Building prefix dict from the default dictionary ...\n",
            "Dumping model to file cache /tmp/jieba.cache\n",
            "Loading model cost 1.058 seconds.\n",
            "Prefix dict has been built successfully.\n"
          ],
          "name": "stderr"
        },
        {
          "output_type": "stream",
          "text": [
            "關鍵字: ['製程', '台積', '我們', '奈米', '這個']\n",
            "檔案: ./104人力銀行BLOG/職場360/27902.txt\n",
            "關鍵字: ['認同', '主管', '決策', '公司', '同事']\n",
            "檔案: ./104人力銀行BLOG/職場360/27007.txt\n",
            "關鍵字: ['拒絕', '一個', '因為', '我們', '別人']\n",
            "檔案: ./104人力銀行BLOG/職場360/27589.txt\n",
            "關鍵字: ['離職', '十惡', '公務', '怎麼', '轉職']\n",
            "檔案: ./104人力銀行BLOG/職場360/27951.txt\n",
            "關鍵字: ['批評', '我們', '別人', '責備', '什麼']\n",
            "檔案: ./104人力銀行BLOG/職場360/27942.txt\n",
            "關鍵字: ['會議', '主管', '阿德', '位置', '因為']\n",
            "檔案: ./104人力銀行BLOG/職場360/27999.txt\n",
            "關鍵字: ['拒絕', '時間', '客戶', '他們', '專案']\n",
            "資料夾: ./104人力銀行BLOG/專題特輯\n",
            "檔案: ./104人力銀行BLOG/專題特輯/27262.txt\n",
            "關鍵字: ['職場', '薪水', '前輩', '職涯', '沒有']\n",
            "檔案: ./104人力銀行BLOG/專題特輯/27438.txt\n",
            "關鍵字: ['轉職', '比較', '104', '機會', '閱讀']\n",
            "資料夾: ./104人力銀行BLOG/職場心得\n",
            "檔案: ./104人力銀行BLOG/職場心得/27229.txt\n",
            "關鍵字: ['工作', '情況', '還是', '產業', '自己']\n",
            "資料夾: ./104人力銀行BLOG/樂活職場\n",
            "檔案: ./104人力銀行BLOG/樂活職場/27593.txt\n",
            "關鍵字: ['目標', '秩序', '104', '即將', '焦慮']\n",
            "資料夾: ./104人力銀行BLOG/履歷面試\n",
            "檔案: ./104人力銀行BLOG/履歷面試/27441.txt\n",
            "關鍵字: ['MA', '機會', '溝通', '面試', '經驗']\n",
            "資料夾: ./104人力銀行BLOG/104 產品服務\n",
            "檔案: ./104人力銀行BLOG/104 產品服務/27666.txt\n",
            "關鍵字: ['104', '求職者', '銀行', '企業', '離職']\n",
            "資料夾: ./104人力銀行BLOG/玩數據\n",
            "檔案: ./104人力銀行BLOG/玩數據/27554.txt\n",
            "關鍵字: ['工程師', '月薪', '中南', '製程', '北部']\n",
            "檔案: ./104人力銀行BLOG/玩數據/27328.txt\n",
            "關鍵字: ['104', '年終', '高於', '算高', '履歷']\n",
            "資料夾: ./104人力銀行BLOG/人資充電\n",
            "檔案: ./104人力銀行BLOG/人資充電/27103.txt\n",
            "關鍵字: ['照顧', '防疫', '家長', '開學', '申請']\n",
            "資料夾: ./104人力銀行BLOG/學習成長\n",
            "檔案: ./104人力銀行BLOG/學習成長/27066.txt\n",
            "關鍵字: ['目標', '什麼', '實現目標', '壞習慣', '自己']\n",
            "檔案: ./104人力銀行BLOG/學習成長/27520.txt\n",
            "關鍵字: ['客戶', '我們', '不得體', 'out', '104']\n",
            "檔案: ./104人力銀行BLOG/學習成長/27415.txt\n",
            "關鍵字: ['Clubhouse', '閒聊', '我們', 'App', '這個']\n",
            "檔案: ./104人力銀行BLOG/學習成長/27274.txt\n",
            "關鍵字: ['休假', '郵件', 'message', '設定', 'out']\n"
          ],
          "name": "stdout"
        }
      ]
    }
  ]
}